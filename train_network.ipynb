{
 "cells": [
  {
   "cell_type": "code",
   "execution_count": 3,
   "metadata": {},
   "outputs": [
    {
     "name": "stderr",
     "output_type": "stream",
     "text": [
      "Using TensorFlow backend.\n"
     ]
    }
   ],
   "source": [
    "import numpy as np\n",
    "from keras.optimizers import Adam\n",
    "from keras.engine import Model\n",
    "from keras.layers import Flatten, Dense\n",
    "from keras.applications.vgg16 import VGG16\n",
    "from keras.callbacks import ModelCheckpoint\n",
    "from sklearn.model_selection import train_test_split\n",
    "from sklearn.preprocessing import StandardScaler\n",
    "from keras.callbacks import TensorBoard\n",
    "from keras.utils import to_categorical\n",
    "import gc\n",
    "import time\n",
    "import h5py"
   ]
  },
  {
   "cell_type": "code",
   "execution_count": 9,
   "metadata": {},
   "outputs": [],
   "source": [
    "def vgg_face_model(classes=4, hidden_dim=512, shape=(160, 160, 3)):\n",
    "    # Convolution Features\n",
    "    model = VGG16(include_top=False, input_shape=shape)\n",
    "    last_layer = model.get_layer('pool5').output\n",
    "    x = Flatten(name='flatten')(last_layer)\n",
    "    x = Dense(hidden_dim, activation='relu', name='fc4096')(x)\n",
    "    x = Dense(hidden_dim, activation='relu', name='fc4097')(x)\n",
    "    out = Dense(classes, activation='softmax', name='fc1000')(x)\n",
    "    vgg_model = Model(model.input, out)\n",
    "    return vgg_model"
   ]
  },
  {
   "cell_type": "code",
   "execution_count": 15,
   "metadata": {
    "scrolled": true
   },
   "outputs": [
    {
     "data": {
      "text/plain": [
       "23"
      ]
     },
     "execution_count": 15,
     "metadata": {},
     "output_type": "execute_result"
    }
   ],
   "source": [
    "gc.collect()"
   ]
  },
  {
   "cell_type": "code",
   "execution_count": 16,
   "metadata": {},
   "outputs": [
    {
     "ename": "MemoryError",
     "evalue": "",
     "output_type": "error",
     "traceback": [
      "\u001b[0;31m---------------------------------------------------------------------------\u001b[0m",
      "\u001b[0;31mMemoryError\u001b[0m                               Traceback (most recent call last)",
      "\u001b[0;32m<ipython-input-16-1c7cb193de26>\u001b[0m in \u001b[0;36m<module>\u001b[0;34m\u001b[0m\n\u001b[1;32m      1\u001b[0m \u001b[0mf\u001b[0m \u001b[0;34m=\u001b[0m \u001b[0mh5py\u001b[0m\u001b[0;34m.\u001b[0m\u001b[0mFile\u001b[0m\u001b[0;34m(\u001b[0m\u001b[0;34m'images.h5'\u001b[0m\u001b[0;34m,\u001b[0m \u001b[0;34m'r'\u001b[0m\u001b[0;34m)\u001b[0m\u001b[0;34m\u001b[0m\u001b[0m\n\u001b[1;32m      2\u001b[0m \u001b[0;31m# X_train = np.array(f['X_train'])\u001b[0m\u001b[0;34m\u001b[0m\u001b[0;34m\u001b[0m\u001b[0m\n\u001b[0;32m----> 3\u001b[0;31m \u001b[0mX_dev\u001b[0m \u001b[0;34m=\u001b[0m \u001b[0mnp\u001b[0m\u001b[0;34m.\u001b[0m\u001b[0marray\u001b[0m\u001b[0;34m(\u001b[0m\u001b[0mf\u001b[0m\u001b[0;34m[\u001b[0m\u001b[0;34m'X_dev'\u001b[0m\u001b[0;34m]\u001b[0m\u001b[0;34m)\u001b[0m\u001b[0;34m\u001b[0m\u001b[0m\n\u001b[0m\u001b[1;32m      4\u001b[0m \u001b[0my_train\u001b[0m\u001b[0;34m=\u001b[0m\u001b[0mnp\u001b[0m\u001b[0;34m.\u001b[0m\u001b[0marray\u001b[0m\u001b[0;34m(\u001b[0m\u001b[0mf\u001b[0m\u001b[0;34m[\u001b[0m\u001b[0;34m'y_train'\u001b[0m\u001b[0;34m]\u001b[0m\u001b[0;34m)\u001b[0m\u001b[0;34m\u001b[0m\u001b[0m\n\u001b[1;32m      5\u001b[0m \u001b[0my_dev\u001b[0m\u001b[0;34m=\u001b[0m\u001b[0mnp\u001b[0m\u001b[0;34m.\u001b[0m\u001b[0marray\u001b[0m\u001b[0;34m(\u001b[0m\u001b[0mf\u001b[0m\u001b[0;34m[\u001b[0m\u001b[0;34m'y_dev'\u001b[0m\u001b[0;34m]\u001b[0m\u001b[0;34m)\u001b[0m\u001b[0;34m\u001b[0m\u001b[0m\n",
      "\u001b[0;31mMemoryError\u001b[0m: "
     ]
    }
   ],
   "source": [
    "f = h5py.File('images.h5', 'r')\n",
    "# X_train = np.array(f['X_train'])\n",
    "X_dev = np.array(f['X_dev'])\n",
    "y_train=np.array(f['y_train'])\n",
    "y_dev=np.array(f['y_dev'])\n",
    "y_train=to_categorical(y_train,num_classes=4)\n",
    "y_dev=to_categorical(y_dev,num_classes=4)\n",
    "# normalization\n",
    "scaler = StandardScaler()\n",
    "X_dev = scaler.fit_transform(X_dev)\n",
    "with open(\"Scaler_parameters.txt\", 'w') as f:\n",
    "    print(\"mean is {}. variance is {}\".format(scaler.mean_, scaler.var_))\n",
    "    f.write(\"mean is {}. variance is {}\".format(scaler.mean_, scaler.var_))"
   ]
  },
  {
   "cell_type": "code",
   "execution_count": null,
   "metadata": {},
   "outputs": [],
   "source": [
    "def generate_arrays_from_file(path, y_train, batch_size):\n",
    "    while 1:\n",
    "        f = h5py.File(path, 'r')\n",
    "        X_train = np.array(f['X_train'])\n",
    "        count = 0\n",
    "        index = 0\n",
    "        X = []\n",
    "        Y = []\n",
    "        for line in X_train:\n",
    "            X.append(line)\n",
    "            Y.append(y_train[index])\n",
    "            index += 1\n",
    "            count += 1\n",
    "            if count == batch_size:\n",
    "                count = 0\n",
    "                yield (scaler.transform(np.array(X)), np.array(Y))\n",
    "                X = []\n",
    "                Y = []\n",
    "        f.close()"
   ]
  },
  {
   "cell_type": "code",
   "execution_count": null,
   "metadata": {},
   "outputs": [],
   "source": [
    "result={\"bounary\":'min_distance'}\n",
    "for boundary in boundaries:\n",
    "    min_distance=Integer.Max\n",
    "    for sample in samples:\n",
    "        if distance(sample, boundary)< min_distance:\n",
    "            min_distance=distance(sample, boundary)\n",
    "    result[boundary]=min_distance\n",
    "return max(result.keys(),lamdba=x:result[x])"
   ]
  }
 ],
 "metadata": {
  "kernelspec": {
   "display_name": "Python 3",
   "language": "python",
   "name": "python3"
  },
  "language_info": {
   "codemirror_mode": {
    "name": "ipython",
    "version": 3
   },
   "file_extension": ".py",
   "mimetype": "text/x-python",
   "name": "python",
   "nbconvert_exporter": "python",
   "pygments_lexer": "ipython3",
   "version": "3.6.6"
  }
 },
 "nbformat": 4,
 "nbformat_minor": 2
}
