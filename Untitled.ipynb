{
 "cells": [
  {
   "cell_type": "code",
   "execution_count": 1,
   "metadata": {},
   "outputs": [
    {
     "ename": "RuntimeError",
     "evalue": "Failed to initialize X11 resources",
     "output_type": "error",
     "traceback": [
      "\u001b[0;31m---------------------------------------------------------------------------\u001b[0m",
      "\u001b[0;31mRuntimeError\u001b[0m                              Traceback (most recent call last)",
      "\u001b[0;32m<ipython-input-1-6868af4e391b>\u001b[0m in \u001b[0;36m<module>\u001b[0;34m\u001b[0m\n\u001b[1;32m      9\u001b[0m \u001b[0mface_detector\u001b[0m \u001b[0;34m=\u001b[0m \u001b[0mdlib\u001b[0m\u001b[0;34m.\u001b[0m\u001b[0mget_frontal_face_detector\u001b[0m\u001b[0;34m(\u001b[0m\u001b[0;34m)\u001b[0m\u001b[0;34m\u001b[0m\u001b[0m\n\u001b[1;32m     10\u001b[0m \u001b[0;34m\u001b[0m\u001b[0m\n\u001b[0;32m---> 11\u001b[0;31m \u001b[0mwin\u001b[0m \u001b[0;34m=\u001b[0m \u001b[0mdlib\u001b[0m\u001b[0;34m.\u001b[0m\u001b[0mimage_window\u001b[0m\u001b[0;34m(\u001b[0m\u001b[0;34m)\u001b[0m\u001b[0;34m\u001b[0m\u001b[0m\n\u001b[0m\u001b[1;32m     12\u001b[0m \u001b[0;34m\u001b[0m\u001b[0m\n\u001b[1;32m     13\u001b[0m \u001b[0;31m# Load the image into an array\u001b[0m\u001b[0;34m\u001b[0m\u001b[0;34m\u001b[0m\u001b[0m\n",
      "\u001b[0;31mRuntimeError\u001b[0m: Failed to initialize X11 resources"
     ]
    }
   ],
   "source": [
    "import sys\n",
    "import dlib\n",
    "from skimage import io\n",
    "\n",
    "# Take the image file name from the command line\n",
    "file_name = 'myphoto.jpg'\n",
    "\n",
    "# Create a HOG face detector using the built-in dlib class\n",
    "face_detector = dlib.get_frontal_face_detector()\n",
    "\n",
    "# Load the image into an array\n",
    "image = io.imread(file_name)\n",
    "\n",
    "# Run the HOG face detector on the image data.\n",
    "# The result will be the bounding boxes of the faces in our image.\n",
    "detected_faces = face_detector(image, 1)\n",
    "\n",
    "print(\"I found {} faces in the file {}\".format(len(detected_faces), file_name))\n",
    "\n",
    "\n",
    "# Loop through each face we found in the image\n",
    "for i, face_rect in enumerate(detected_faces):\n",
    "\n",
    "\t# Detected faces are returned as an object with the coordinates \n",
    "\t# of the top, left, right and bottom edges\n",
    "\tprint(\"- Face #{} found at Left: {} Top: {} Right: {} Bottom: {}\".format(i, face_rect.left(), face_rect.top(), face_rect.right(), face_rect.bottom()))\n",
    "\n",
    "\t# Draw a box around each face we found\n",
    "\twin.add_overlay(face_rect)\n",
    "\t        \n",
    "# Wait until the user hits <enter> to close the window\t        \n",
    "dlib.hit_enter_to_continue()"
   ]
  },
  {
   "cell_type": "code",
   "execution_count": null,
   "metadata": {},
   "outputs": [],
   "source": []
  }
 ],
 "metadata": {
  "kernelspec": {
   "display_name": "Python 3",
   "language": "python",
   "name": "python3"
  },
  "language_info": {
   "codemirror_mode": {
    "name": "ipython",
    "version": 3
   },
   "file_extension": ".py",
   "mimetype": "text/x-python",
   "name": "python",
   "nbconvert_exporter": "python",
   "pygments_lexer": "ipython3",
   "version": "3.6.6"
  }
 },
 "nbformat": 4,
 "nbformat_minor": 2
}
