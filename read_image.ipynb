{
 "cells": [
  {
   "cell_type": "code",
   "execution_count": 1,
   "metadata": {},
   "outputs": [],
   "source": [
    "import os\n",
    "import numpy as np\n",
    "import h5py\n",
    "import cv2\n",
    "import face_recognition"
   ]
  },
  {
   "cell_type": "code",
   "execution_count": 2,
   "metadata": {},
   "outputs": [],
   "source": [
    "# Folder path\n",
    "PATH = [\"Caucasian\", \"African\", \"Indian\", \"Mongoloid\"]\n",
    "# label is 0-3. 0= caucasian, 1=african, 2=indian, 3=mongoloid\n",
    "X_train=list()\n",
    "y_train=list()\n",
    "X_dev=list()\n",
    "y_dev=list()"
   ]
  },
  {
   "cell_type": "code",
   "execution_count": 3,
   "metadata": {},
   "outputs": [
    {
     "name": "stdout",
     "output_type": "stream",
     "text": [
      "10000\n",
      "20000\n",
      "30000\n",
      "40000\n",
      "50000\n",
      "60000\n",
      "70000\n",
      "80000\n",
      "90000\n",
      "100000\n",
      "110000\n",
      "120000\n",
      "130000\n",
      "140000\n",
      "150000\n",
      "160000\n"
     ]
    }
   ],
   "source": [
    "current=0\n",
    "for i in range(len(PATH)):\n",
    "    for dirpath, dirs, files in os.walk(\"dataset/\" + PATH[i]):\n",
    "        for file in files:\n",
    "            if file.endswith(\".jpg\"):\n",
    "                current+=1\n",
    "                if current%10000==0:\n",
    "                    print(current)\n",
    "                name = os.path.join(dirpath, file)\n",
    "                image = face_recognition.load_image_file(name)\n",
    "                face_locations = face_recognition.face_locations(image)\n",
    "                if len(face_locations) != 1 :\n",
    "                    continue\n",
    "                top = face_locations[0][0]\n",
    "                right = face_locations[0][1]\n",
    "                bottom = face_locations[0][2]\n",
    "                left = face_locations[0][3]\n",
    "                if bottom - top < 80 or right - left < 80:\n",
    "                    continue\n",
    "                if np.random.rand() < 0.3:\n",
    "                    X_dev.append(cv2.resize(image[top:bottom + 1, left:right + 1, :], (160, 160)))\n",
    "                    y_dev.append(i)\n",
    "                else:\n",
    "                    X_train.append(cv2.resize(image[top:bottom + 1, left:right + 1, :], (160, 160)))\n",
    "                    y_train.append(i)"
   ]
  },
  {
   "cell_type": "code",
   "execution_count": 4,
   "metadata": {},
   "outputs": [
    {
     "name": "stdout",
     "output_type": "stream",
     "text": [
      "61493\n",
      "61493\n",
      "26559\n",
      "26559\n"
     ]
    }
   ],
   "source": [
    "print(len(X_train))\n",
    "print(len(y_train))\n",
    "print(len(X_dev))\n",
    "print(len(y_dev))"
   ]
  },
  {
   "cell_type": "code",
   "execution_count": 8,
   "metadata": {},
   "outputs": [],
   "source": [
    "f = h5py.File(\"images.h5\", \"w\")\n",
    "# Create images dataset\n",
    "X_train_output = f.create_dataset('X_train',(len(X_train),160,160,3),dtype='f')\n",
    "X_dev_output = f.create_dataset('X_dev',(len(X_dev),160,160,3),dtype='f')\n",
    "for i in range(len(X_train)):\n",
    "    X_train_output[i] = X_train[i].astype(np.float64)\n",
    "for i in range(len(X_dev)):\n",
    "    X_dev_output[i] = X_dev[i].astype(np.float64)\n",
    "y_train_output = f.create_dataset('y_train',(len(y_train),160,160,3),dtype='f')\n",
    "y_dev_output = f.create_dataset('y_dev',(len(y_dev),160,160,3),dtype='f')\n",
    "y_train=np.stack(y_train)\n",
    "y_dev=np.stack(y_dev)\n",
    "y_train_output= y_train\n",
    "y_dev_output = y_dev"
   ]
  },
  {
   "cell_type": "code",
   "execution_count": 9,
   "metadata": {},
   "outputs": [],
   "source": [
    "# Create annotation\n",
    "# ethnic = np.stack(ethnic)\n",
    "# y_dset = f.create_dataset('ethnic', ethnic.shape, dtype='i')\n",
    "# y_dset[:] = ethnic\n",
    "\n",
    "f.close()"
   ]
  }
 ],
 "metadata": {
  "kernelspec": {
   "display_name": "Python 3",
   "language": "python",
   "name": "python3"
  },
  "language_info": {
   "codemirror_mode": {
    "name": "ipython",
    "version": 3
   },
   "file_extension": ".py",
   "mimetype": "text/x-python",
   "name": "python",
   "nbconvert_exporter": "python",
   "pygments_lexer": "ipython3",
   "version": "3.6.6"
  }
 },
 "nbformat": 4,
 "nbformat_minor": 2
}
